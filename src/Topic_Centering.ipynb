{
 "cells": [
  {
   "cell_type": "code",
   "execution_count": 169,
   "metadata": {},
   "outputs": [],
   "source": [
    "import nltk\n",
    "import string\n",
    "from nltk import pos_tag\n",
    "import spacy\n",
    "import numpy as np\n",
    "from nltk import grammar, parse\n",
    "from collections import Counter \n",
    "from cleantext import clean\n",
    "import re"
   ]
  },
  {
   "cell_type": "code",
   "execution_count": 170,
   "metadata": {},
   "outputs": [],
   "source": [
    "nlp = spacy.load(\"en\")"
   ]
  },
  {
   "cell_type": "code",
   "execution_count": 171,
   "metadata": {},
   "outputs": [],
   "source": [
    "# load and clean data\n",
    "filename = '../data/test7.txt'\n",
    "f = open(filename, \"r\")\n",
    "contents = f.read()\n",
    "\n",
    "clean(\"some input\",\n",
    "    fix_unicode=True,               # fix various unicode errors\n",
    "    to_ascii=True,                  # transliterate to closest ASCII representation\n",
    "    lower=True,                     # lowercase text\n",
    "    no_line_breaks=False,           # fully strip line breaks as opposed to only normalizing them\n",
    "    no_urls=False,                  # replace all URLs with a special token\n",
    "    no_emails=False,                # replace all email addresses with a special token\n",
    "    no_phone_numbers=False,         # replace all phone numbers with a special token\n",
    "    no_numbers=False,               # replace all numbers with a special token\n",
    "    no_digits=False,                # replace all digits with a special token\n",
    "    no_currency_symbols=False,      # replace all currency symbols with a special token\n",
    "    no_punct=False,                 # fully remove punctuation\n",
    "    replace_with_url=\"\",\n",
    "    replace_with_email=\"\",\n",
    "    replace_with_phone_number=\"\",\n",
    "    replace_with_number=\"\",\n",
    "    replace_with_digit=\"\",\n",
    "    replace_with_currency_symbol=\"\",\n",
    "    lang=\"en\"                       # set to 'de' for German special handling\n",
    ")\n",
    "\n",
    "contents = re.sub(r'\\d+', '', contents)\n",
    "contents = re.sub(r\"\"\"\n",
    "               [,;@#?!&$\\\"\\'\\[\\]]+  # Accept one or more copies of punctuation\n",
    "               \\ *           # plus zero or more copies of a space,\n",
    "               \"\"\",\n",
    "               \" \",          # and replace it with a single space\n",
    "               contents, flags=re.VERBOSE)\n",
    "contents = re.sub(' +', ' ', contents)\n",
    "\n",
    "utterances = []\n",
    "split_utterances = []\n",
    "sentences = contents.strip().split('.')\n",
    "for sentence in sentences:\n",
    "    if sentence != '':\n",
    "        utterances.append(sentence.strip())"
   ]
  },
  {
   "cell_type": "code",
   "execution_count": 173,
   "metadata": {},
   "outputs": [
    {
     "name": "stdout",
     "output_type": "stream",
     "text": [
      "[[('Devendra', 'NNP'), ('Fadnavis', 'NNP'), ('whose', 'WP$'), ('government', 'NN'), ('is', 'VBZ'), ('fighting', 'VBG'), ('a', 'DT'), ('challenge', 'NN'), ('over', 'IN'), ('his', 'PRP$'), ('swearing', 'NN'), ('in', 'RP'), ('from', 'IN'), ('Sena', 'NNP'), ('-', 'HYPH'), ('NCP', 'NNP'), ('-', 'HYPH'), ('Cong', 'NNP'), ('-', 'HYPH'), ('combine', 'NNP'), ('got', 'VBD'), ('busy', 'JJ'), ('with', 'IN'), ('work', 'NN'), ('in', 'IN'), ('his', 'PRP$'), ('second', 'JJ'), ('stint', 'NN'), ('as', 'IN'), ('chief', 'JJ'), ('minister', 'NN'), ('of', 'IN'), ('Maharashtra', 'NNP'), ('by', 'IN'), ('signing', 'VBG'), ('his', 'PRP$'), ('first', 'JJ'), ('cheque', 'NN'), ('for', 'IN'), ('a', 'DT'), ('relief', 'NN'), ('fund', 'NN')], [('The', 'DT'), ('CMO', 'NNP'), ('Maharastra', 'NNP'), ('tweeted', 'VBD'), ('pictures', 'NNS'), ('of', 'IN'), ('the', 'DT'), ('CM', 'NNP'), ('signing', 'VBG'), ('his', 'PRP$'), ('first', 'JJ'), ('cheque', 'NN'), ('for', 'IN'), ('the', 'DT'), ('Chief', 'NNP'), ('Minister', 'NNP'), ('’s', 'POS'), ('Relief', 'NNP'), ('Fund', 'NNP')], [('The', 'DT'), ('new', 'JJ'), ('chief', 'JJ'), ('minister', 'NN'), ('was', 'VBD'), ('then', 'RB'), ('seen', 'VBN'), ('handing', 'NN'), ('over', 'RP'), ('the', 'DT'), ('cheque', 'NN'), ('to', 'IN'), ('a', 'DT'), ('woman', 'NN')], [('“', '``'), ('CM', 'NNP'), ('Devendra', 'NNP'), ('Fadnavis', 'NNP'), ('’', 'POS'), ('first', 'JJ'), ('signature', 'NN'), ('of', 'IN'), ('this', 'DT'), ('tenure', 'NN'), ('was', 'VBD'), ('done', 'VBN'), ('on', 'IN'), ('a', 'DT'), ('CMReliefFund', 'NN'), ('cheque', 'NN'), ('on', 'IN'), ('reaching', 'VBG'), ('Mantralaya', 'NNP'), ('which', 'WDT'), ('was', 'VBD'), ('handed', 'VBN'), ('over', 'RP'), ('to', 'IN'), ('Kusum', 'NNP'), ('Vengurlekar', 'NNP'), ('by', 'IN'), ('CM', 'NNP'), ('”', \"''\"), ('the', 'DT'), ('Chief', 'NNP'), ('Minister', 'NNP'), ('’s', 'POS'), ('Office', 'NNP'), ('tweeted', 'VBD')], [('The', 'DT'), ('BJP', 'NNP'), ('chief', 'NN'), ('minister', 'NN'), ('got', 'VBD'), ('a', 'DT'), ('breather', 'NN'), ('as', 'IN'), ('the', 'DT'), ('Supreme', 'NNP'), ('Court', 'NNP'), ('on', 'IN'), ('Monday', 'NNP'), ('said', 'VBD'), ('it', 'PRP'), ('will', 'MD'), ('pass', 'VB'), ('an', 'DT'), ('order', 'NN'), ('at', 'IN')], [('am', 'VBP'), ('on', 'IN'), ('Tuesday', 'NNP'), ('on', 'IN'), ('the', 'DT'), ('legality', 'NN'), ('of', 'IN'), ('the', 'DT'), ('chief', 'JJ'), ('minister', 'NN'), ('’s', 'NNP'), ('swearing', 'VBG'), ('in', 'RP'), ('on', 'IN'), ('Saturday', 'NNP'), ('which', 'WDT'), ('the', 'DT'), ('opposition', 'NN'), ('alliance', 'NN'), ('allege', 'NN'), ('was', 'VBD'), ('conducted', 'VBN'), ('in', 'IN'), ('a', 'DT'), ('“', '``'), ('hurried', 'JJ'), ('and', 'CC'), ('makeshift', 'JJ'), ('”', \"''\"), ('ceremony', 'NN')], [('The', 'DT'), ('Centre', 'NNP'), ('told', 'VBD'), ('a', 'DT'), ('bench', 'NN'), ('comprising', 'VBG'), ('Justices', 'NNPS'), ('N', 'NNP'), ('V', 'NNP'), ('Ramana', 'NNP'), ('Ashok', 'NNP'), ('Bhushan', 'NNP'), ('and', 'CC'), ('Sanjiv', 'NNP'), ('Khanna', 'NNP'), ('that', 'IN'), ('the', 'DT'), ('governor', 'NN'), ('had', 'VBD'), ('in', 'IN'), ('absolute', 'JJ'), ('discretion', 'NN'), ('invited', 'VBD'), ('the', 'DT'), ('largest', 'JJS'), ('party', 'NN'), ('to', 'TO'), ('form', 'VB'), ('government', 'NN'), ('on', 'IN'), ('November', 'NNP')], [('It', 'PRP'), ('further', 'RB'), ('said', 'VBD'), ('that', 'IN'), ('the', 'DT'), ('BJP', 'NNP'), ('had', 'VBD'), ('the', 'DT'), ('support', 'NN'), ('of', 'IN'), ('all', 'DT'), ('NCP', 'NNP'), ('MLAs', 'NNS'), ('to', 'TO'), ('form', 'VB'), ('a', 'DT'), ('government', 'NN'), ('in', 'IN'), ('Maharashtra', 'NNP')], [('The', 'DT'), ('BJP', 'NNP'), ('is', 'VBZ'), ('the', 'DT'), ('single', 'JJ'), ('largest', 'JJS'), ('party', 'NN'), ('with', 'IN'), ('MLAs', 'NNS'), ('in', 'IN'), ('the', 'DT'), ('-member', 'NNP'), ('state', 'NN'), ('assembly', 'NN'), ('followed', 'VBN'), ('by', 'IN'), ('the', 'DT'), ('Shiv', 'NNP'), ('Sena', 'NNP'), ('(', '-LRB-'), (')', '-RRB-'), ('NCP', 'NNP'), ('(', '-LRB-'), (')', '-RRB-'), ('and', 'CC'), ('Congress', 'NNP'), ('(', '-LRB-'), (')', '-RRB-')], [('The', 'DT'), ('Sena', 'NNP'), ('broke', 'VBD'), ('its', 'PRP$'), ('three', 'CD'), ('-', 'HYPH'), ('decade', 'NN'), ('-', 'HYPH'), ('long', 'JJ'), ('ties', 'NNS'), ('with', 'IN'), ('the', 'DT'), ('BJP', 'NNP'), ('after', 'IN'), ('the', 'DT'), ('latter', 'JJ'), ('declined', 'VBD'), ('to', 'TO'), ('share', 'VB'), ('the', 'DT'), ('chief', 'NN'), ('minister', 'NN'), ('’s', 'POS'), ('post', 'NNP')], [('Senior', 'JJ'), ('advocate', 'NN'), ('Mukul', 'NNP'), ('Rohatgi', 'NNP'), ('appearing', 'VBG'), ('for', 'IN'), ('the', 'DT'), ('BJP', 'NNP'), ('and', 'CC'), ('some', 'DT'), ('Independent', 'NNP'), ('MLAs', 'NNP'), ('said', 'VBD'), ('Fadnavis', 'NNP'), ('had', 'VBD'), ('Ajit', 'NNP'), ('Pawar', 'NNP'), ('’s', 'POS'), ('letter', 'NN'), ('of', 'IN'), ('assurance', 'NNP'), ('and', 'CC'), ('they', 'PRP'), ('had', 'VBD'), ('submitted', 'VBN'), ('a', 'DT'), ('list', 'NN'), ('of', 'IN'), ('MLAs', 'NNS'), ('for', 'IN'), ('forming', 'VBG'), ('government', 'NN')], [('In', 'IN'), ('Mumbai', 'NNP'), ('leaders', 'NNS'), ('of', 'IN'), ('the', 'DT'), ('Shiv', 'NNP'), ('Sena', 'NNP'), ('NCP', 'NNP'), ('and', 'CC'), ('the', 'DT'), ('Congress', 'NNP'), ('on', 'IN'), ('Monday', 'NNP'), ('submitted', 'VBD'), ('a', 'DT'), ('letter', 'NN'), ('to', 'IN'), ('the', 'DT'), ('governor', 'NN'), ('reiterating', 'VBG'), ('their', 'PRP$'), ('claim', 'NN'), ('that', 'IN'), ('they', 'PRP'), ('have', 'VBP'), ('the', 'DT'), ('required', 'VBN'), ('numbers', 'NNS'), ('to', 'TO'), ('form', 'VB'), ('government', 'NN'), ('in', 'IN'), ('the', 'DT'), ('state', 'NN')], [('Amid', 'IN'), ('the', 'DT'), ('continuing', 'VBG'), ('political', 'JJ'), ('drama', 'NN'), ('and', 'CC'), ('fear', 'NN'), ('of', 'IN'), ('‘', '``'), ('poaching', 'NN'), ('’', \"''\"), ('of', 'IN'), ('MLAs', 'NNP'), ('the', 'DT'), ('NCP', 'NNP'), ('shifted', 'VBD'), ('its', 'PRP$'), ('legislators', 'NNS'), ('from', 'IN'), ('a', 'DT'), ('five', 'CD'), ('-', 'HYPH'), ('star', 'NN'), ('resort', 'NN'), ('to', 'IN'), ('two', 'CD'), ('other', 'JJ'), ('hotels', 'NNS'), ('in', 'IN'), ('the', 'DT'), ('city', 'NN')], [('Congress', 'NNP'), ('legislators', 'NNS'), ('are', 'VBP'), ('at', 'IN'), ('a', 'DT'), ('suburban', 'JJ'), ('hotel', 'NN'), ('in', 'IN'), ('Andheri', 'NNP'), ('as', 'IN'), ('are', 'VBP'), ('the', 'DT'), ('Shiv', 'NNP'), ('sena', 'NN'), ('’s', \"''\"), ('MLAs', 'NNS')], [('Senior', 'JJ'), ('Congress', 'NNP'), ('leader', 'NN'), ('Ashok', 'NNP'), ('Chavan', 'NNP'), ('on', 'IN'), ('Sunday', 'NNP'), ('alleged', 'VBD'), ('that', 'IN'), ('BJP', 'NNP'), ('leaders', 'NNS'), ('had', 'VBD'), ('booked', 'VBN'), ('rooms', 'NNS'), ('in', 'IN'), ('a', 'DT'), ('hotel', 'NN'), ('where', 'WRB'), ('his', 'PRP$'), ('party', 'NN'), ('MLAs', 'NNS'), ('were', 'VBD'), ('put', 'VBN'), ('up', 'RP'), ('and', 'CC'), ('were', 'VBD'), ('contacting', 'VBG'), ('some', 'DT'), ('of', 'IN'), ('them', 'PRP')], [('Over', 'IN'), ('the', 'DT'), ('past', 'JJ'), ('week', 'NN'), ('there', 'EX'), ('were', 'VBD'), ('three', 'CD'), ('Test', 'NNP'), ('matches', 'NNS'), ('which', 'WDT'), ('were', 'VBD'), ('going', 'VBG'), ('on', 'RP'), ('simultaneously', 'RB')], [('Two', 'CD'), ('of', 'IN'), ('these', 'DT'), ('India', 'NNP'), ('vs', 'IN'), ('Bangladesh', 'NNP'), ('and', 'CC'), ('Australia', 'NNP'), ('vs', 'IN'), ('Pakistan', 'NNP'), ('were', 'VBD'), ('Test', 'NN'), ('matches', 'NNS'), ('but', 'CC'), ('only', 'RB'), ('on', 'IN'), ('paper', 'NN')], [('India', 'NNP'), ('smashed', 'VBD'), ('Bangladesh', 'NNP'), ('in', 'IN'), ('less', 'JJR'), ('than', 'IN'), ('three', 'CD'), ('days', 'NNS'), ('while', 'IN'), ('Australia', 'NNP'), ('got', 'VBD'), ('the', 'DT'), ('better', 'JJR'), ('of', 'IN'), ('Pakistan', 'NNP'), ('in', 'IN'), ('four', 'CD'), ('days', 'NNS'), ('by', 'IN'), ('an', 'DT'), ('innings', 'NN'), ('and', 'CC'), ('six', 'CD'), ('runs', 'NNS')], [('However', 'RB'), ('the', 'DT'), ('match', 'NN'), ('between', 'IN'), ('New', 'NNP'), ('Zealand', 'NNP'), ('and', 'CC'), ('England', 'NNP'), ('went', 'VBD'), ('down', 'RP'), ('to', 'IN'), ('the', 'DT'), ('final', 'JJ'), ('session', 'NN'), ('of', 'IN'), ('the', 'DT'), ('final', 'JJ'), ('day', 'NN'), ('and', 'CC'), ('England', 'NNP'), ('despite', 'IN'), ('showing', 'VBG'), ('good', 'JJ'), ('fight', 'NN'), ('fell', 'VBD'), ('short', 'JJ'), ('and', 'CC'), ('New', 'NNP'), ('Zealand', 'NNP'), ('bagged', 'VBD'), ('the', 'DT'), ('match', 'NN')], [('It', 'PRP'), ('was', 'VBD'), ('a', 'DT'), ('proper', 'JJ'), ('graft', 'NN'), ('it', 'PRP'), ('was', 'VBD'), ('pure', 'JJ'), ('Test', 'NN'), ('cricket', 'NN'), ('but', 'CC'), ('well', 'UH'), ('it', 'PRP'), ('was', 'VBD'), ('not', 'RB'), ('part', 'NN'), ('of', 'IN'), ('the', 'DT'), ('World', 'NNP'), ('Test', 'NNP'), ('Championship', 'NNP')], [('Yes', 'UH'), ('it', 'PRP'), ('was', 'VBD'), ('just', 'RB'), ('another', 'DT'), ('Test', 'NN'), ('match', 'NN'), ('and', 'CC'), ('the', 'DT'), ('result', 'NN'), ('will', 'MD'), ('have', 'VB'), ('absolutely', 'RB'), ('no', 'DT'), ('bearing', 'NN'), ('on', 'IN'), ('the', 'DT'), ('points', 'NNS'), ('table', 'NN')], [('So', 'IN'), ('we', 'PRP'), ('can', 'MD'), ('all', 'DT'), ('raise', 'VB'), ('our', 'PRP$'), ('eyebrows', 'NNS'), ('and', 'CC'), ('question', 'VB'), ('the', 'DT'), ('scheduling', 'NN'), ('all', 'RB'), ('over', 'RB'), ('again', 'RB'), ('but', 'CC'), ('before', 'IN'), ('we', 'PRP'), ('jump', 'VBP'), ('up', 'RB'), ('and', 'CC'), ('down', 'RB'), ('let', 'VB'), ('us', 'PRP'), ('first', 'RB'), ('understand', 'VB'), ('why', 'WRB'), ('this', 'DT'), ('happened', 'VBD'), ('in', 'IN'), ('the', 'DT'), ('first', 'JJ'), ('place', 'NN')], [('This', 'DT'), ('is', 'VBZ'), ('an', 'DT'), ('anomaly', 'NNP'), ('-', 'HYPH'), ('the', 'DT'), ('introduction', 'NN'), ('of', 'IN'), ('the', 'DT'), ('World', 'NNP'), ('Test', 'NNP'), ('Championship', 'NNP'), ('has', 'VBZ'), ('impacted', 'VBN'), ('on', 'IN'), ('the', 'DT'), ('meaningfulness', 'NN'), ('of', 'IN'), ('this', 'DT'), ('series', 'NN')], [('The', 'DT'), ('format', 'NN'), ('of', 'IN'), ('the', 'DT'), ('tournament', 'NN'), ('mandates', 'NNS'), ('that', 'IN'), ('each', 'DT'), ('country', 'NN'), ('would', 'MD'), ('play', 'VB'), ('six', 'CD'), ('series', 'NN'), ('under', 'IN'), ('the', 'DT'), ('Test', 'NNP'), ('Championship', 'NNP'), ('with', 'IN'), ('three', 'CD'), ('of', 'IN'), ('those', 'DT'), ('being', 'VBG'), ('played', 'VBN'), ('at', 'IN'), ('home', 'NN'), ('while', 'IN'), ('the', 'DT'), ('others', 'NNS'), ('would', 'MD'), ('be', 'VB'), ('played', 'VBN'), ('overseas', 'RB')], [('Hence', 'RB'), ('the', 'DT'), ('series', 'NN'), ('between', 'IN'), ('England', 'NNP'), ('and', 'CC'), ('New', 'NNP'), ('Zealand', 'NNP'), ('falls', 'VBZ'), ('into', 'IN'), ('the', 'DT'), ('section', 'NN'), ('of', 'IN'), ('Test', 'NN'), ('matches', 'NNS'), ('which', 'WDT'), ('will', 'MD'), ('not', 'RB'), ('be', 'VB'), ('a', 'DT'), ('part', 'NN'), ('of', 'IN'), ('the', 'DT'), ('Test', 'NNP'), ('Championship', 'NNP'), ('because', 'IN'), ('had', 'VBD'), ('it', 'PRP'), ('been', 'VBN'), ('a', 'DT'), ('part', 'NN'), ('England', 'NNP'), ('would', 'MD'), ('have', 'VB'), ('played', 'VBN'), ('an', 'DT'), ('away', 'RB'), ('series', 'NN'), ('more', 'JJR'), ('which', 'WDT'), ('would', 'MD'), ('have', 'VB'), ('left', 'VBN'), ('the', 'DT'), ('rest', 'NN'), ('of', 'IN'), ('the', 'DT'), ('scheduling', 'NN'), ('awry', 'RB')], [('This', 'DT'), ('World', 'NNP'), ('Test', 'NNP'), ('Championship', 'NNP'), ('is', 'VBZ'), ('a', 'DT'), ('good', 'JJ'), ('contest', 'NN'), ('but', 'CC'), ('the', 'DT'), ('scheduling', 'NN'), ('is', 'VBZ'), ('far', 'RB'), ('from', 'IN'), ('ideal', 'JJ')], [('Indian', 'JJ'), ('captain', 'NN'), ('Virat', 'NNP'), ('Kohli', 'NNP'), ('also', 'RB'), ('suggested', 'VBD'), ('a', 'DT'), ('format', 'NN'), ('to', 'TO'), ('make', 'VB'), ('the', 'DT'), ('World', 'NNP'), ('Test', 'NNP'), ('Championship', 'NNP'), ('more', 'RBR'), ('even', 'RB')], [('“', '``'), ('A', 'DT'), ('more', 'RBR'), ('balanced', 'JJ'), ('format', 'NN'), ('would', 'MD'), ('be', 'VB'), ('one', 'CD'), ('series', 'NN'), ('home', 'NN'), ('one', 'CD'), ('away', 'RB')], [('We', 'PRP'), ('are', 'VBP'), ('playing', 'VBG'), ('very', 'RB'), ('good', 'JJ'), ('cricket', 'NN'), ('but', 'CC'), ('we', 'PRP'), ('have', 'VBP'), ('played', 'VBN'), ('only', 'RB'), ('two', 'CD'), ('Tests', 'NNS'), ('away', 'RB'), ('”', \"''\"), ('said', 'VBD'), ('Kohli', 'NNP'), ('after', 'IN'), ('the', 'DT'), ('win', 'NN'), ('against', 'IN'), ('Bangladesh', 'NNP'), ('at', 'IN'), ('Eden', 'NNP'), ('Gardens', 'NNPS')]]\n"
     ]
    }
   ],
   "source": [
    "# POS tagging of each sentence using spacy\n",
    "pos_tags_utterances = []\n",
    "\n",
    "# for utterance in utterances:\n",
    "#     pos_tags_utterances.append(pos_tag(utterance.split(' ')))\n",
    "\n",
    "for utterance in utterances:\n",
    "    doc = nlp(utterance)\n",
    "    temp_list = []\n",
    "    for token in doc:\n",
    "        temp_list.append((token.text, token.tag_))\n",
    "    pos_tags_utterances.append(temp_list)\n",
    "print(pos_tags_utterances)"
   ]
  },
  {
   "cell_type": "code",
   "execution_count": 174,
   "metadata": {},
   "outputs": [],
   "source": [
    "# topic of first sentence\n",
    "processed_utterance = nlp(utterances[0])\n",
    "init_topic = ''\n",
    "for token in processed_utterance:\n",
    "    if \"NN\" in token.tag_:\n",
    "        init_topic = token.text\n",
    "        break"
   ]
  },
  {
   "cell_type": "code",
   "execution_count": 175,
   "metadata": {},
   "outputs": [
    {
     "name": "stdout",
     "output_type": "stream",
     "text": [
      "['undefined', ('cmo', 'NNP'), ('minister', 'NN'), ('cm', 'NNP'), ('bjp', 'NNP'), ('tuesday', 'NNP'), ('centre', 'NNP'), ('bench', 'NN'), ('bjp', 'NNP'), ('sena', 'NNP'), ('advocate', 'NN'), ('mumbai', 'NNP'), ('drama', 'NN'), ('congress', 'NNP'), ('congress', 'NNP'), ('week', 'NN'), ('india', 'NNP'), ('india', 'NNP'), ('match', 'NN'), ('match', 'NN'), ('match', 'NN'), ('eyebrows', 'NNS'), ('anomaly', 'NNP'), ('format', 'NN'), ('series', 'NN'), ('world', 'NNP'), ('captain', 'NN'), ('format', 'NN'), ('cricket', 'NN')]\n"
     ]
    }
   ],
   "source": [
    "# Centers of all utterances\n",
    "total_utterances = len(utterances)\n",
    "tagged_utterances = utterances\n",
    "\n",
    "Cb = [None] * total_utterances\n",
    "\n",
    "Cf = []\n",
    "for i in range(total_utterances):\n",
    "    Cf.append([])\n",
    "\n",
    "Cb[0] = \"undefined\"\n",
    "for i in range(total_utterances):\n",
    "    for token in pos_tags_utterances[i]:\n",
    "        if \"NN\" in token[1]:\n",
    "            Cf[i].append((token[0].lower(), token[1]))\n",
    "        if i!=0:\n",
    "            if \"PRP\" == token[1]:\n",
    "                if token[0].lower() == \"he\" or token[0].lower() == \"she\":\n",
    "                    for pos in Cf[i-1]:\n",
    "                        if pos[1] == \"NNP\":\n",
    "                            if (pos[0].lower(), \"NNP\") not in Cf[i]:\n",
    "                                Cf[i].append((pos[0].lower(), \"NNP\"))\n",
    "                                break\n",
    "                elif token[0].lower() == \"it\":\n",
    "                    for pos in Cf[i-1]:\n",
    "                        if pos[1] == \"NN\":\n",
    "                            if (pos[0].lower(), \"NN\") not in Cf[i]:\n",
    "                                Cf[i].append((pos[0].lower(), \"NN\"))\n",
    "                                break\n",
    "                elif token[0].lower() == 'they':\n",
    "                    for pos in Cf[i-1]:\n",
    "                        if pos[1] == \"NNS\":\n",
    "                            if (pos[0].lower(), \"NN\") not in Cf[i]:\n",
    "                                Cf[i].append((pos[0].lower(), \"NNS\"))\n",
    "                                break\n",
    "\n",
    "    if i != 0:\n",
    "        try:\n",
    "            Cb[i] = Cf[i][0]\n",
    "        except:\n",
    "            Cb[i] = Cb[i-1]\n",
    "print(Cb)"
   ]
  },
  {
   "cell_type": "code",
   "execution_count": 176,
   "metadata": {},
   "outputs": [
    {
     "name": "stdout",
     "output_type": "stream",
     "text": [
      "['Devendra', 'Cmo', 'minister', 'Cm', 'Bjp', 'Tuesday', 'Centre', 'bench', 'Bjp', 'Sena', 'advocate', 'Mumbai', 'drama', 'Congress', 'Congress', 'week', 'India', 'India', 'match', 'match', 'match', 'eyebrows', 'Anomaly', 'format', 'series', 'World', 'captain', 'format', 'cricket']\n"
     ]
    }
   ],
   "source": [
    "topics_utterances = []\n",
    "focus_utterances = []\n",
    "topics_utterances.append(init_topic)\n",
    "for tuple_val in Cb:\n",
    "    if tuple_val != \"undefined\":\n",
    "        if tuple_val[1] == \"NNP\":\n",
    "            topics_utterances.append(tuple_val[0].capitalize())\n",
    "        else:\n",
    "            topics_utterances.append(tuple_val[0])\n",
    "print(topics_utterances)"
   ]
  },
  {
   "cell_type": "code",
   "execution_count": 177,
   "metadata": {},
   "outputs": [
    {
     "name": "stdout",
     "output_type": "stream",
     "text": [
      "Topics present in the discourse are:\n",
      "match\n",
      "bjp\n",
      "congress\n"
     ]
    }
   ],
   "source": [
    "topic_dict = {}\n",
    "for topic in topics_utterances:\n",
    "    if len(topic) != 1:\n",
    "        if topic.lower() not in topic_dict.keys():\n",
    "            topic_dict[topic.lower()] = 1\n",
    "        else:\n",
    "            topic_dict[topic.lower()] += 1\n",
    "        \n",
    "k  = Counter(topic_dict)\n",
    "if len(topic_dict)//2 < 3:\n",
    "    top_topics_num = len(topic_dict)//2 + 1\n",
    "else:\n",
    "    top_topics_num = 3\n",
    "top_topics_list = k.most_common(top_topics_num)\n",
    "\n",
    "\n",
    "print(\"Topics present in the discourse are:\")\n",
    "for topic in top_topics_list:\n",
    "    print(topic[0])"
   ]
  },
  {
   "cell_type": "code",
   "execution_count": 178,
   "metadata": {},
   "outputs": [
    {
     "name": "stdout",
     "output_type": "stream",
     "text": [
      "Topic of every sentence:\n",
      "Devendra Fadnavis whose government is fighting a challenge over his swearing in from Sena-NCP-Cong-combine got busy with work in his second stint as chief minister of Maharashtra by signing his first cheque for a relief fund : Devendra\n",
      "The CMO Maharastra tweeted pictures of the CM signing his first cheque for the Chief Minister’s Relief Fund : Cmo\n",
      "The new chief minister was then seen handing over the cheque to a woman : minister\n",
      "“CM Devendra Fadnavis’ first signature of this tenure was done on a CMReliefFund cheque on reaching Mantralaya which was handed over to Kusum Vengurlekar by CM ” the Chief Minister’s Office tweeted : Cm\n",
      "The BJP chief minister got a breather as the Supreme Court on Monday said it will pass an order at : Bjp\n",
      "am on Tuesday on the legality of the chief minister’s swearing in on Saturday which the opposition alliance allege was conducted in a “hurried and makeshift” ceremony : Tuesday\n",
      "The Centre told a bench comprising Justices N V Ramana Ashok Bhushan and Sanjiv Khanna that the governor had in absolute discretion invited the largest party to form government on November : Centre\n",
      "It further said that the BJP had the support of all NCP MLAs to form a government in Maharashtra : bench\n",
      "The BJP is the single largest party with MLAs in the -member state assembly followed by the Shiv Sena () NCP () and Congress () : Bjp\n",
      "The Sena broke its three-decade-long ties with the BJP after the latter declined to share the chief minister’s post : Sena\n",
      "Senior advocate Mukul Rohatgi appearing for the BJP and some Independent MLAs said Fadnavis had Ajit Pawar’s letter of assurance and they had submitted a list of MLAs for forming government : advocate\n",
      "In Mumbai leaders of the Shiv Sena NCP and the Congress on Monday submitted a letter to the governor reiterating their claim that they have the required numbers to form government in the state : Mumbai\n",
      "Amid the continuing political drama and fear of ‘poaching’ of MLAs the NCP shifted its legislators from a five-star resort to two other hotels in the city : drama\n",
      "Congress legislators are at a suburban hotel in Andheri as are the Shiv sena’s MLAs : Congress\n",
      "Senior Congress leader Ashok Chavan on Sunday alleged that BJP leaders had booked rooms in a hotel where his party MLAs were put up and were contacting some of them : Congress\n",
      "Over the past week there were three Test matches which were going on simultaneously : week\n",
      "Two of these India vs Bangladesh and Australia vs Pakistan were Test matches but only on paper : India\n",
      "India smashed Bangladesh in less than three days while Australia got the better of Pakistan in four days by an innings and six runs : India\n",
      "However the match between New Zealand and England went down to the final session of the final day and England despite showing good fight fell short and New Zealand bagged the match : match\n",
      "It was a proper graft it was pure Test cricket but well it was not part of the World Test Championship : match\n",
      "Yes it was just another Test match and the result will have absolutely no bearing on the points table : match\n",
      "So we can all raise our eyebrows and question the scheduling all over again but before we jump up and down let us first understand why this happened in the first place : eyebrows\n",
      "This is an anomaly - the introduction of the World Test Championship has impacted on the meaningfulness of this series : Anomaly\n",
      "The format of the tournament mandates that each country would play six series under the Test Championship with three of those being played at home while the others would be played overseas : format\n",
      "Hence the series between England and New Zealand falls into the section of Test matches which will not be a part of the Test Championship because had it been a part England would have played an away series more which would have left the rest of the scheduling awry : series\n",
      "This World Test Championship is a good contest but the scheduling is far from ideal : World\n",
      "Indian captain Virat Kohli also suggested a format to make the World Test Championship more even : captain\n",
      "“A more balanced format would be one series home one away : format\n",
      "We are playing very good cricket but we have played only two Tests away ” said Kohli after the win against Bangladesh at Eden Gardens : cricket\n"
     ]
    }
   ],
   "source": [
    "print(\"Topic of every sentence:\")\n",
    "for utterance, utterance_topic in zip(utterances, topics_utterances):\n",
    "    print(utterance, \":\", utterance_topic)"
   ]
  },
  {
   "cell_type": "code",
   "execution_count": 179,
   "metadata": {},
   "outputs": [
    {
     "name": "stdout",
     "output_type": "stream",
     "text": [
      "Devendra Fadnavis whose government is fighting a challenge over his swearing in from Sena-NCP-Cong-combine got busy with work in his second stint as chief minister of Maharashtra by signing his first cheque for a relief fund : [ Devendra Fadnavis ;  whose government is fighting a challenge over his swearing in from sena-ncp-cong-combine got busy with work in his second stint as chief minister of maharashtra by signing his first cheque for a relief fund ]\n",
      "The CMO Maharastra tweeted pictures of the CM signing his first cheque for the Chief Minister’s Relief Fund : [ cmo ; t cmo maharastra tweeted pictures of t cm signing his first cque for t chief minister’s relief fund ]\n",
      "The new chief minister was then seen handing over the cheque to a woman : [  ;  ]\n",
      "“CM Devendra Fadnavis’ first signature of this tenure was done on a CMReliefFund cheque on reaching Mantralaya which was handed over to Kusum Vengurlekar by CM ” the Chief Minister’s Office tweeted : [ cm ; “cm devendra fadnavis’ first signature of this tenure was done on a cmrelieffund cque on reaching mantralaya which was handed over to kusum vengurlekar by cm ” t chief minister’s office tweeted ]\n",
      "The BJP chief minister got a breather as the Supreme Court on Monday said it will pass an order at : [ bjp ; t bjp chief minister got a breatr as t supreme court on monday said it will pass an order at ]\n",
      "am on Tuesday on the legality of the chief minister’s swearing in on Saturday which the opposition alliance allege was conducted in a “hurried and makeshift” ceremony : [  ;  ]\n",
      "The Centre told a bench comprising Justices N V Ramana Ashok Bhushan and Sanjiv Khanna that the governor had in absolute discretion invited the largest party to form government on November : [ The Centre ;  told a bench comprising justices n v ramana ashok bhushan and sanjiv khanna that the governor had in absolute discretion invited the largest party to form government on november ]\n",
      "It further said that the BJP had the support of all NCP MLAs to form a government in Maharashtra : [ bench ;  further said that the bjp had the support of all ncp mlas to form a government in maharashtra ]\n",
      "The BJP is the single largest party with MLAs in the -member state assembly followed by the Shiv Sena () NCP () and Congress () : [ bjp ; t bjp is t single largest party with mlas in t -member state assembly followed by t shiv sena () ncp () and congress () ]\n",
      "The Sena broke its three-decade-long ties with the BJP after the latter declined to share the chief minister’s post : [ The Sena ;  broke its three-decade-long ties with the bjp after the latter declined to share the chief minister’s post ]\n",
      "Senior advocate Mukul Rohatgi appearing for the BJP and some Independent MLAs said Fadnavis had Ajit Pawar’s letter of assurance and they had submitted a list of MLAs for forming government : [ Senior advocate Mukul Rohatgi ;  appearing for the bjp and some independent mlas said fadnavis had ajit pawar’s letter of assurance and they had submitted a list of mlas for forming government ]\n",
      "In Mumbai leaders of the Shiv Sena NCP and the Congress on Monday submitted a letter to the governor reiterating their claim that they have the required numbers to form government in the state : [ mumbai ; in mumbai leaders of t shiv sena ncp and t congress on monday submitted a letter to t governor reiterating tir claim that ty have t required numbers to form government in t state ]\n",
      "Amid the continuing political drama and fear of ‘poaching’ of MLAs the NCP shifted its legislators from a five-star resort to two other hotels in the city : [ drama ; amid t continuing political drama and fear of ‘poaching’ of mlas t ncp shifted its legislators from a five-star resort to two otr hotels in t city ]\n",
      "Congress legislators are at a suburban hotel in Andheri as are the Shiv sena’s MLAs : [ Congress legislators ;  are at a suburban hotel in andheri as are the shiv sena’s mlas ]\n",
      "Senior Congress leader Ashok Chavan on Sunday alleged that BJP leaders had booked rooms in a hotel where his party MLAs were put up and were contacting some of them : [ Senior Congress leader Ashok Chavan ;  on sunday alleged that bjp leaders had booked rooms in a hotel where his party mlas were put up and were contacting some of them ]\n",
      "Over the past week there were three Test matches which were going on simultaneously : [  ;  ]\n",
      "Two of these India vs Bangladesh and Australia vs Pakistan were Test matches but only on paper : [  ;  ]\n",
      "India smashed Bangladesh in less than three days while Australia got the better of Pakistan in four days by an innings and six runs : [ India ;  smashed bangladesh in less than three days while australia got the better of pakistan in four days by an innings and six runs ]\n",
      "However the match between New Zealand and England went down to the final session of the final day and England despite showing good fight fell short and New Zealand bagged the match : [ the match ; however  between new zealand and england went down to the final session of the final day and england despite showing good fight fell short and new zealand bagged  ]\n",
      "It was a proper graft it was pure Test cricket but well it was not part of the World Test Championship : [ match ;  was a proper graft  was pure test cricket but well  was not part of the world test championship ]\n",
      "Yes it was just another Test match and the result will have absolutely no bearing on the points table : [ match ; yes  was just another test match and the result will have absolutely no bearing on the points table ]\n",
      "So we can all raise our eyebrows and question the scheduling all over again but before we jump up and down let us first understand why this happened in the first place : [  ;  ]\n",
      "This is an anomaly - the introduction of the World Test Championship has impacted on the meaningfulness of this series : [ anomaly ; this is an anomaly - t introduction of t world test championship has impacted on t meaningfulness of this series ]\n",
      "The format of the tournament mandates that each country would play six series under the Test Championship with three of those being played at home while the others would be played overseas : [  ;  ]\n",
      "Hence the series between England and New Zealand falls into the section of Test matches which will not be a part of the Test Championship because had it been a part England would have played an away series more which would have left the rest of the scheduling awry : [ the series ; hence  between england and new zealand falls into the section of test matches which will not be a part of the test championship because had it been a part england would have played an away series more which would have left the rest of the scheduling awry ]\n",
      "This World Test Championship is a good contest but the scheduling is far from ideal : [ This World Test Championship ;  is a good contest but the scheduling is far from ideal ]\n",
      "Indian captain Virat Kohli also suggested a format to make the World Test Championship more even : [ Indian captain Virat Kohli ;  also suggested a format to make the world test championship more even ]\n",
      "“A more balanced format would be one series home one away : [ A more balanced format ; “ would be one series home one away ]\n",
      "We are playing very good cricket but we have played only two Tests away ” said Kohli after the win against Bangladesh at Eden Gardens : [  ;  ]\n"
     ]
    }
   ],
   "source": [
    "i = 0\n",
    "topic_sentence = []\n",
    "focus_sentence = []\n",
    "for utterance, utterance_topic in zip(utterances, topics_utterances):\n",
    "    processed_utterance = nlp(utterance)\n",
    "    topic_chunk = ''\n",
    "    focus_chunk = ''\n",
    "    for chunk in processed_utterance.noun_chunks:\n",
    "        if chunk.root.dep_ == \"nsubj\":\n",
    "            if utterance_topic in chunk.text:\n",
    "                topic_chunk = chunk.text\n",
    "                focus_chunk = utterance.lower().replace(topic_chunk.lower(), \"\")\n",
    "                break\n",
    "            elif \"he\" in chunk.text.lower():\n",
    "                topic_chunk = Cb[i][0]\n",
    "                focus_chunk = utterance.lower().replace(\"he\", \"\")\n",
    "                break\n",
    "            elif \"she\" in chunk.text.lower():\n",
    "                topic_chunk = Cb[i][0]\n",
    "                focus_chunk = utterance.lower().replace(\"she\", \"\")\n",
    "                break\n",
    "            elif \"it\" in chunk.text.lower():\n",
    "                topic_chunk = Cb[i][0]\n",
    "                focus_chunk = utterance.lower().replace(\"it\", \"\")\n",
    "                break\n",
    "            elif \"they\" in chunk.text.lower():\n",
    "                topic_chunk = Cb[i][0]\n",
    "                focus_chunk = utterance.lower().replace(\"they\", \"\")\n",
    "                break\n",
    "    i += 1\n",
    "    topic_sentence.append(topic_chunk)\n",
    "    focus_sentence.append(focus_chunk)\n",
    "\n",
    "for utterance, topic, focus in zip(utterances, topic_sentence, focus_sentence):\n",
    "    print(utterance, \": [\", topic, \";\", focus, \"]\")"
   ]
  },
  {
   "cell_type": "code",
   "execution_count": null,
   "metadata": {},
   "outputs": [],
   "source": []
  }
 ],
 "metadata": {
  "kernelspec": {
   "display_name": "Python 3",
   "language": "python",
   "name": "python3"
  },
  "language_info": {
   "codemirror_mode": {
    "name": "ipython",
    "version": 3
   },
   "file_extension": ".py",
   "mimetype": "text/x-python",
   "name": "python",
   "nbconvert_exporter": "python",
   "pygments_lexer": "ipython3",
   "version": "3.6.8"
  }
 },
 "nbformat": 4,
 "nbformat_minor": 2
}
