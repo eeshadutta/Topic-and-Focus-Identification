{
 "cells": [
  {
   "cell_type": "code",
   "execution_count": 57,
   "metadata": {},
   "outputs": [],
   "source": [
    "import nltk\n",
    "import string\n",
    "from nltk import pos_tag\n",
    "import spacy\n",
    "import numpy as np"
   ]
  },
  {
   "cell_type": "code",
   "execution_count": 15,
   "metadata": {},
   "outputs": [],
   "source": [
    "nlp = spacy.load(\"en\")"
   ]
  },
  {
   "cell_type": "code",
   "execution_count": 70,
   "metadata": {},
   "outputs": [
    {
     "name": "stdout",
     "output_type": "stream",
     "text": [
      "['John went to his favorite music store to buy a piano.\\n', 'He was excited that he could finally buy a piano.He arrived just as the store was closing for the day.\\n', 'It was closing just as John arrived.']\n",
      "\n",
      "\n",
      "[['John', 'went', 'to', 'his', 'favorite', 'music', 'store', 'to', 'buy', 'a', 'piano'], ['He', 'was', 'excited', 'that', 'he', 'could', 'finally', 'buy', 'a', 'piano'], ['He', 'arrived', 'just', 'as', 'the', 'store', 'was', 'closing', 'for', 'the', 'day'], ['It', 'was', 'closing', 'just', 'as', 'John', 'arrived']]\n"
     ]
    }
   ],
   "source": [
    "filename = '../data/test.txt'\n",
    "f = open(filename, \"r\")\n",
    "contents = f.readlines()\n",
    "print(contents)\n",
    "\n",
    "print(\"\\n\")\n",
    "utterances = []\n",
    "split_utterances = []\n",
    "for line in contents:\n",
    "    sentences = line.strip().split('.')\n",
    "    for sentence in sentences:\n",
    "        if sentence != '':\n",
    "            utterances.append(sentence)\n",
    "            split_utterances.append(sentence.split(' '))\n",
    "\n",
    "print(utterances)"
   ]
  },
  {
   "cell_type": "code",
   "execution_count": 71,
   "metadata": {},
   "outputs": [
    {
     "name": "stdout",
     "output_type": "stream",
     "text": [
      "[[('John', 'NNP'), ('went', 'VBD'), ('to', 'TO'), ('his', 'PRP$'), ('favorite', 'JJ'), ('music', 'NN'), ('store', 'NN'), ('to', 'TO'), ('buy', 'VB'), ('a', 'DT'), ('piano', 'NN')], [('He', 'PRP'), ('was', 'VBD'), ('excited', 'VBN'), ('that', 'IN'), ('he', 'PRP'), ('could', 'MD'), ('finally', 'RB'), ('buy', 'VB'), ('a', 'DT'), ('piano', 'NN')], [('He', 'PRP'), ('arrived', 'VBD'), ('just', 'RB'), ('as', 'IN'), ('the', 'DT'), ('store', 'NN'), ('was', 'VBD'), ('closing', 'VBG'), ('for', 'IN'), ('the', 'DT'), ('day', 'NN')], [('It', 'PRP'), ('was', 'VBD'), ('closing', 'VBG'), ('just', 'RB'), ('as', 'IN'), ('John', 'NNP'), ('arrived', 'VBD')]]\n"
     ]
    }
   ],
   "source": [
    "## pos tags\n",
    "pos_tags_utterances = []\n",
    "\n",
    "for utterance in utterances:\n",
    "    pos_tags_utterances.append(pos_tag(utterance))\n",
    "    \n",
    "print(pos_tags_utterances)"
   ]
  },
  {
   "cell_type": "code",
   "execution_count": 73,
   "metadata": {},
   "outputs": [
    {
     "name": "stdout",
     "output_type": "stream",
     "text": [
      "['John', 'music', 'store', 'piano']\n",
      "[None, 'piano']\n",
      "[None, 'store', 'day']\n",
      "[None, 'John']\n"
     ]
    }
   ],
   "source": [
    "topics_utterances = []\n",
    "focus_utterances = []\n",
    "\n",
    "total_utterances = len(utterances)\n",
    "\n",
    "Cb = [None] * total_utterances\n",
    "# Cf = [[]] * total_utterances\n",
    "Cp = [None] * total_utterances\n",
    "\n",
    "Cf = []\n",
    "for i in range(total_utterances):\n",
    "    Cf.append([])\n",
    "\n",
    "Cb[0] = \"undefined\"\n",
    "for i in range(total_utterances):\n",
    "    \n",
    "    if i != 0:\n",
    "        Cf[i].append((Cp[i-1]))\n",
    "#         Cb[i] = Cp[i-1]\n",
    "    \n",
    "    for token in pos_tags_utterances[i]:\n",
    "        if \"NN\" in token[1]:\n",
    "            Cf[i].append(token[0])\n",
    "    \n",
    "    ## Sort the Cf[i] in terms of score and assign the highest score one to Cp[i]\n",
    "    \n",
    "    ## Cb[i] is either Cp[i-1] among Cf[i]. This we have to decide.\n",
    "    ## Reading to be done.\n",
    "    \n",
    "for lis in Cf:\n",
    "    print(lis)"
   ]
  },
  {
   "cell_type": "code",
   "execution_count": null,
   "metadata": {},
   "outputs": [],
   "source": []
  }
 ],
 "metadata": {
  "kernelspec": {
   "display_name": "Python 3",
   "language": "python",
   "name": "python3"
  },
  "language_info": {
   "codemirror_mode": {
    "name": "ipython",
    "version": 3
   },
   "file_extension": ".py",
   "mimetype": "text/x-python",
   "name": "python",
   "nbconvert_exporter": "python",
   "pygments_lexer": "ipython3",
   "version": "3.7.4"
  }
 },
 "nbformat": 4,
 "nbformat_minor": 2
}
